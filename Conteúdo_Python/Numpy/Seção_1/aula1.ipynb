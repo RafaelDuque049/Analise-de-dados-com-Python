{
 "cells": [
  {
   "cell_type": "code",
   "execution_count": null,
   "metadata": {},
   "outputs": [],
   "source": [
    "import numpy as np"
   ]
  },
  {
   "cell_type": "code",
   "execution_count": null,
   "metadata": {},
   "outputs": [],
   "source": [
    "# MÉTODOS MAP E FILTER (Lambda)\n",
    "\n",
    "listaTeste = np.random.randint(low=1, high=50, size=10)\n",
    "\n",
    "m_map = map(\n",
    "    lambda numero: numero*2, # Função lambda para cada iterador do Array\n",
    "    listaTeste # Váriavel onde está alocado o Array\n",
    ")\n",
    "\n",
    "m_filter = filter(lambda numero: numero % 2 == 0, listaTeste) # Na função lambda, deve existir um calculo lógico para funcionar. (Contém o mesmo construtor do método \"map()\")\n",
    "\n",
    "\n",
    "\"\"\" AVISO: É necessário que as funções sejam guardado em uma lista para que possam ser usadas. \"\"\"\n",
    "listaMap = list(m_map)\n",
    "\n",
    "listaFilter = list(m_filter)\n",
    "\n",
    "print('Valores da lista:', list(listaTeste))\n",
    "print(f'valores multiplicados por 2: {listaMap}\\nValores pares da lista: {listaFilter}')\n"
   ]
  },
  {
   "cell_type": "code",
   "execution_count": null,
   "metadata": {},
   "outputs": [],
   "source": [
    "# MÉTODO SET\n",
    "\n",
    "vogais1 = ['a', 'a', 'e', 'i', 'o', 'o', 'u']\n",
    "\n",
    "vogais2 = 'aeiiiouuuuuu'\n",
    "\n",
    "vogais3 = ('a', 'a', 'e', 'i', 'o', 'o', 'u', 'e', 'e')\n",
    "\n",
    "\n",
    "# Vai retornar uma nova set da lista sem iteradores repetidos, retornando apenas um de cada.\n",
    "print(set(vogais1)) # Lista\n",
    "\n",
    "# Retorna em uma set nova, os iteradores da String sem se repetir.\n",
    "print(set(vogais2)) # String\n",
    "\n",
    "# Essa funcionalidade funciona com tuplas.\n",
    "print(set(vogais3)) # Tupla\n"
   ]
  },
  {
   "cell_type": "code",
   "execution_count": null,
   "metadata": {},
   "outputs": [],
   "source": [
    "# Object.DIFFERENCE() \n",
    "\n",
    "# Lista com componentes a serem verificados.\n",
    "componentes_verificados = set(['caixas de som', 'cooler', 'dissipador de calor', 'cpu', 'hd', 'estabilizador', 'gabinete', 'hub', 'impressora', 'joystick', 'memória ram', 'microfone', 'modem', 'monitor', 'mouse', 'no-break', 'placa de captura', 'placa de som', 'placa de vídeo', 'placa mãe', 'scanner', 'teclado', 'webcam'])\n",
    "\n",
    "# Componentes que foi identificado defeito.\n",
    "componentes_com_defeito = set(['hd', 'monitor', 'placa de som', 'scanner'])\n",
    "    \n",
    "\n",
    "# O métodos difference vai remover os iteradores recebidos nos parâmetros, do set onde ele foi chamado.\n",
    "componentes_ok = componentes_verificados.difference(componentes_com_defeito)\n",
    "\n",
    "\n",
    "# Assim, não vai conter os componentes com defeito, na lista de componentes verificados.\n",
    "print(componentes_ok)\n"
   ]
  },
  {
   "cell_type": "code",
   "execution_count": null,
   "metadata": {},
   "outputs": [],
   "source": [
    "# Matrizes em Numpy\n",
    "\n",
    "matriz_1_3 = np.array([1, 2, 3]) # Uma linha com 3 colunas\n",
    "matriz_2_2 = np.array([[1, 2, 3], [1, 2, 3]]) # 2 linhas com 3 colunas\n",
    "matriz_3_2 = np.array([[1, 2], [1, 2], [1, 2]]) # 3 linhas com 2 colunas\n",
    "matriz_2_3 = np.array([[1, 2, 3], [1, 2, 3]]) # 2 linhas com 3 colunas\n",
    "\n",
    "\n",
    "print('Matriz 1:\\n', matriz_1_3)\n",
    "\n",
    "print('\\nMatriz 2:\\n', matriz_2_2)\n",
    "\n",
    "print('\\nMatriz 3:\\n', matriz_3_2)\n",
    "\n",
    "print('\\nMatriz 4:\\n', matriz_2_3)\n"
   ]
  },
  {
   "cell_type": "code",
   "execution_count": null,
   "metadata": {},
   "outputs": [],
   "source": [
    "matriz1 = np.ones((3, 3)) # np.ones(tuple): Cria uma matriz segundo o tamanho desejado com o número 1.\n",
    "matriz0 = np.zeros((3, 3))\n",
    "matrix_eye = np.eye((4))\n",
    "\n",
    "print('Matriz com número um:\\n', matriz1)\n",
    "\n",
    "print('\\nMatriz com número zero\\n', matriz0)\n",
    "\n",
    "print('\\nMatriz de identidade:\\n', matrix_eye)\n",
    "\n",
    "matriz_sort = np.random.randint(low=1, high=200, size=10) # Cria uma array com valores sorteados segundo os parametros.\n",
    "\n",
    "matriz_sort = matriz_sort.reshape(2, 5) # Cria uma matriz; (esta matriz vai ser de 2 linhas com 5 colunas)\n",
    "\n",
    "print('\\nMatrix sorteada:\\n', matriz_sort)\n"
   ]
  },
  {
   "cell_type": "code",
   "execution_count": null,
   "metadata": {},
   "outputs": [],
   "source": [
    "numeros = np.random.randint(low=1, high=500, size=(np.random.randint(10, 20)))\n",
    "\n",
    "print(f'O tamanho é: {len(numeros)}')\n",
    "print(f'O valor total dos números é: {numeros.sum()}')\n",
    "print(f'A média de valores é: {numeros.mean()}')\n",
    "print(f'O maior valor é: {numeros.max()}')\n",
    "print(f'O menor valor é: {numeros.min()}')\n",
    "print(f'E o padrão de desfio é: {numeros.std()}')\n"
   ]
  }
 ],
 "metadata": {
  "kernelspec": {
   "display_name": "Python 3",
   "language": "python",
   "name": "python3"
  },
  "language_info": {
   "codemirror_mode": {
    "name": "ipython",
    "version": 3
   },
   "file_extension": ".py",
   "mimetype": "text/x-python",
   "name": "python",
   "nbconvert_exporter": "python",
   "pygments_lexer": "ipython3",
   "version": "3.10.11"
  },
  "orig_nbformat": 4
 },
 "nbformat": 4,
 "nbformat_minor": 2
}
