{
 "cells": [
  {
   "cell_type": "code",
   "execution_count": 1,
   "metadata": {},
   "outputs": [],
   "source": [
    "import pandas as pd"
   ]
  },
  {
   "cell_type": "code",
   "execution_count": 2,
   "metadata": {},
   "outputs": [
    {
     "name": "stdout",
     "output_type": "stream",
     "text": [
      "              nome                                    email  enviado\n",
      "0      Sonia Weber   Lorem.ipsum@cursusvestibulumMauris.com    False\n",
      "1       Daryl Lowe                        auctor@magnis.org    False\n",
      "2   Vernon Carroll                  at@magnaUttincidunt.org    False\n",
      "3    Basil Gilliam                  mauris.sagittis@sem.com    False\n",
      "4    Mechelle Cobb              nec.euismod.in@mattis.co.uk    False\n",
      "5      Edan Booker        egestas@massaMaurisvestibulum.edu    False\n",
      "6       Igor Wyatt  semper.auctor.Mauris@Crasdolordolor.edu    False\n",
      "7   Ethan Franklin            risus.Quisque@condimentum.com     True\n",
      "8  Reed Williamson          Donec@nislMaecenasmalesuada.net    False\n",
      "9  Price Singleton               Aenean.gravida@atrisus.edu    False \n",
      "\n",
      "               nome                                    email  enviado\n",
      "0   Travis Shepherd                               at@sed.org    False\n",
      "1        Hoyt Glass                  ac.arcu.Nunc@auctor.edu    False\n",
      "2  Jennifer Aguirre    nunc.Quisque.ornare@nibhAliquam.co.uk    False\n",
      "3     Cassady Ayers                    non.arcu@mauriseu.com     True\n",
      "4       Colin Myers  fringilla.cursus.purus@erategetipsum.ca     True\n",
      "5     Herrod Curtis             Fusce.fermentum@tellus.co.uk     True\n",
      "6      Cecilia Park               dolor.tempus.non@ipsum.net    False\n",
      "7          Hop Byrd             blandit.congue.In@libero.com     True\n",
      "8    Beatrice Silva        nec.tempus.mauris@Suspendisse.com     True\n",
      "9     Alden Morales              felis@urnaconvalliserat.org    False\n"
     ]
    }
   ],
   "source": [
    "def emails_enviados(dados1:dict, dados2:dict):\n",
    "    lista1 = list(zip(dados1['nome'], dados1['email'], dados1['enviado']))\n",
    "\n",
    "    lista2 = list(zip(dados2['nome'], dados2['email'], dados2['enviado']))\n",
    "    \n",
    "    dados = [*lista1, *lista2]\n",
    "    \n",
    "    enviar = [item[1] for item in dados if not item[2]]\n",
    "    \n",
    "    return enviar\n",
    "\n",
    "\n",
    "# Dados fictícios recebidos pela API\n",
    "dados_1 = {\n",
    "  'nome': ['Sonia Weber', 'Daryl Lowe', 'Vernon Carroll', 'Basil Gilliam', 'Mechelle Cobb', 'Edan Booker', 'Igor Wyatt', 'Ethan Franklin', 'Reed Williamson', 'Price Singleton'],\n",
    "  'email': ['Lorem.ipsum@cursusvestibulumMauris.com', 'auctor@magnis.org', 'at@magnaUttincidunt.org', 'mauris.sagittis@sem.com', 'nec.euismod.in@mattis.co.uk', 'egestas@massaMaurisvestibulum.edu', 'semper.auctor.Mauris@Crasdolordolor.edu', 'risus.Quisque@condimentum.com', 'Donec@nislMaecenasmalesuada.net', 'Aenean.gravida@atrisus.edu'],\n",
    "  'enviado': [False, False, False, False, False, False, False, True, False, False]\n",
    "}\n",
    "\n",
    "print(pd.DataFrame(dados_1), '\\n')\n",
    "\n",
    "# Dados fictícios recebidos pela API\n",
    "dados_2 = {\n",
    "  'nome': ['Travis Shepherd', 'Hoyt Glass', 'Jennifer Aguirre', 'Cassady Ayers', 'Colin Myers', 'Herrod Curtis', 'Cecilia Park', 'Hop Byrd', 'Beatrice Silva', 'Alden Morales'],\n",
    "  'email': ['at@sed.org', 'ac.arcu.Nunc@auctor.edu', 'nunc.Quisque.ornare@nibhAliquam.co.uk', 'non.arcu@mauriseu.com', 'fringilla.cursus.purus@erategetipsum.ca', 'Fusce.fermentum@tellus.co.uk', 'dolor.tempus.non@ipsum.net', 'blandit.congue.In@libero.com', 'nec.tempus.mauris@Suspendisse.com', 'felis@urnaconvalliserat.org'],\n",
    "  'enviado': [False, False, False, True, True, True, False, True, True, False]\n",
    "}\n",
    "\n",
    "print(pd.DataFrame(dados_2))\n"
   ]
  },
  {
   "cell_type": "code",
   "execution_count": 3,
   "metadata": {},
   "outputs": [
    {
     "name": "stdout",
     "output_type": "stream",
     "text": [
      "0      Lorem.ipsum@cursusvestibulumMauris.com\n",
      "1                           auctor@magnis.org\n",
      "2                     at@magnaUttincidunt.org\n",
      "3                     mauris.sagittis@sem.com\n",
      "4                 nec.euismod.in@mattis.co.uk\n",
      "5           egestas@massaMaurisvestibulum.edu\n",
      "6     semper.auctor.Mauris@Crasdolordolor.edu\n",
      "7             Donec@nislMaecenasmalesuada.net\n",
      "8                  Aenean.gravida@atrisus.edu\n",
      "9                                  at@sed.org\n",
      "10                    ac.arcu.Nunc@auctor.edu\n",
      "11      nunc.Quisque.ornare@nibhAliquam.co.uk\n",
      "12                 dolor.tempus.non@ipsum.net\n",
      "13                felis@urnaconvalliserat.org\n",
      "dtype: object\n"
     ]
    }
   ],
   "source": [
    "emails = emails_enviados(dados_1, dados_2)\n",
    "\n",
    "print(pd.Series(emails))\n"
   ]
  }
 ],
 "metadata": {
  "kernelspec": {
   "display_name": "Python 3",
   "language": "python",
   "name": "python3"
  },
  "language_info": {
   "codemirror_mode": {
    "name": "ipython",
    "version": 3
   },
   "file_extension": ".py",
   "mimetype": "text/x-python",
   "name": "python",
   "nbconvert_exporter": "python",
   "pygments_lexer": "ipython3",
   "version": "3.10.11"
  },
  "orig_nbformat": 4
 },
 "nbformat": 4,
 "nbformat_minor": 2
}
