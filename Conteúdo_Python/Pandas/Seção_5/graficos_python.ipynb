{
 "cells": [
  {
   "cell_type": "code",
   "execution_count": null,
   "metadata": {},
   "outputs": [],
   "source": [
    "from matplotlib import pyplot as plt # Biblioteca para visualizar os dados\n",
    "from random import randint as rd "
   ]
  },
  {
   "cell_type": "code",
   "execution_count": null,
   "metadata": {},
   "outputs": [],
   "source": [
    "\n",
    "%matplotlib inline \n",
    "# Para esse mesmo comando funcionar em um arquivo Python, precisar utilizar \"plt.show()\" no final do código.\n",
    "\n",
    "# Lista de dados a ser usados para o gráfico \n",
    "valor1 = list(rd(1, 100) for x in range(10))\n",
    "valor2 = list(rd(1, 100) for x in range(10))\n",
    "\n",
    "plt.plot(\n",
    "    valor1, # Primeiro valor vai ser entendido com Eixo X\n",
    "    valor2 # E o segundo valor, como Eixo Y\n",
    ")\n"
   ]
  },
  {
   "cell_type": "code",
   "execution_count": null,
   "metadata": {},
   "outputs": [],
   "source": [
    "import numpy\n",
    "\n",
    "x = numpy.array(range(5))\n",
    "\n",
    "x2 = numpy.array([1, 4, 5, 3, 6, 8, 4])\n",
    "\n",
    "plt.subplots(\n",
    "    nrows=1, # conter apenas 1 linha para o gráfico.\n",
    "    ncols=2, # 2 colunas/eixos em cada linha(s) da imagem. \n",
    "    figsize=(12, 5) # Tamanho da imagem (Cada valor é multiplicado por cem: 12 = 1200px | 5 = 500px == 1200x500)\n",
    ") \n",
    "\"\"\"\n",
    "nrows=2, ncols=1 : Vai ter 1 gráfico em cada linha;\n",
    "nrows=1, ncols=2 : Vai ter dois gráficos em 1 linha.\n",
    "\"\"\"\n"
   ]
  },
  {
   "cell_type": "code",
   "execution_count": null,
   "metadata": {},
   "outputs": [],
   "source": [
    "def gerar_seq(intervalo:tuple, qtds:int):\n",
    "    return numpy.array([rd(intervalo[0], intervalo[1]) for x in range(qtds)])"
   ]
  },
  {
   "cell_type": "code",
   "execution_count": null,
   "metadata": {},
   "outputs": [],
   "source": [
    "figura, eixo = plt.subplots(nrows=1, ncols=2, figsize=(12, 5))\n",
    "\n",
    "\"\"\"\n",
    "OBS: Quando criado duas colunas, é necessário declarar com duas váriaveis, sendo a segunda váriavel recebendo um objeto. Sendo assim, para acessar a primeira coluna/eixo, tem que selecionar o primeiro indice, dessa forma: 'eixo[0]'. e o segundo eixo, da mesma forma, selecionando o segundo indicie: eixo[1]. Exemplo abaixo:\n",
    "\"\"\"\n",
    "eixo[0].plot(x, x**2, 'r--', label='coluna 1') # Acessa o primeiro eixo;\n",
    "eixo[1].plot(x, x**5, 'g-*', label='coluna 2') # Acessa o segundo eixo.\n"
   ]
  },
  {
   "cell_type": "code",
   "execution_count": null,
   "metadata": {},
   "outputs": [],
   "source": [
    "v1 = numpy.array([rd(1, 10) for x in range(50)])\n",
    "\n",
    "fig, eixo = plt.subplots(nrows=1, ncols=2, figsize=(12, 5))\n",
    "\n",
    "eixo[0].plot(v1) # Com linhas\n",
    "eixo[1].plot(v1, 'o') # Com bolinhas (bolinhas vermelhas: ro)\n"
   ]
  },
  {
   "cell_type": "code",
   "execution_count": null,
   "metadata": {},
   "outputs": [],
   "source": [
    "import pandas as pd\n",
    "\n",
    "# DataFrame para guardar os dados a serem apresentados.\n",
    "df = pd.DataFrame({\n",
    "    'Entradas': ['A', 'B', 'C', 'D', 'E', 'F', 'G'],\n",
    "    'Lugares': [10, 20, 15, 7, 26, 3, 13]\n",
    "})\n",
    "\n",
    "# Formatos de apresentação dos dados e suas sintaxes.\n",
    "df.plot('Entradas', 'Lugares', kind='bar') # bar = Colunas\n",
    "# df.plot.bar(x='Entradas', y='Lugares') // syntax lternativa //\n",
    "\n",
    "df.plot('Entradas', 'Lugares', kind='barh') # barh = Colunas horizontal\n",
    "# df.plot.barh(x='Entradas', y='Lugares') // Syntax lternativa //\n",
    "\n",
    "df.plot('Entradas', 'Lugares', kind='line') # line = Linha\n",
    "# df.plot.line(x='Entradas', y='Lugares') // Syntax lternativa // \n",
    "\n",
    "df.set_index(keys='Entradas').plot(y='Lugares', kind='pie') # pie = Torta/pizza\n",
    "# df.set_index(keys='Entradas').plot.pie(y='Lugares') // Syntax alternativa //\n"
   ]
  },
  {
   "cell_type": "code",
   "execution_count": null,
   "metadata": {},
   "outputs": [],
   "source": [
    "array = gerar_seq(intervalo=(1, 50), qtds=20)\n",
    "\n",
    "fig, eixo = plt.subplots(1, 2, figsize=(12, 5))\n",
    "\n",
    "Series = pd.Series(array)\n",
    "\n",
    "eixo[0].plot(\n",
    "    array,\n",
    "    linestyle='', # Estilo da linha; | shorthand: ls='--'\n",
    "    color='#000', # Cor da linha (hexadecimal); | shorthand: c='r'\n",
    "    marker='o', # Formato da marcação;\n",
    "    ms=5, # Tamanho da marcação;\n",
    "    mfc='b', # Cor da marcação (hexadecimal);\n",
    "    mec='b' # Cor da borda da marcação (hexadecimal);\n",
    ")\n",
    "\n",
    "eixo[1].plot(Series, mfc='#fff', marker='s')\n"
   ]
  }
 ],
 "metadata": {
  "kernelspec": {
   "display_name": "Python 3",
   "language": "python",
   "name": "python3"
  },
  "language_info": {
   "codemirror_mode": {
    "name": "ipython",
    "version": 3
   },
   "file_extension": ".py",
   "mimetype": "text/x-python",
   "name": "python",
   "nbconvert_exporter": "python",
   "pygments_lexer": "ipython3",
   "version": "3.10.11"
  },
  "orig_nbformat": 4
 },
 "nbformat": 4,
 "nbformat_minor": 2
}
